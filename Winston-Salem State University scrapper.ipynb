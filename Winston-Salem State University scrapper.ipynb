{
 "cells": [
  {
   "cell_type": "code",
   "execution_count": 15,
   "id": "6775c775",
   "metadata": {},
   "outputs": [],
   "source": [
    "from bs4 import BeautifulSoup\n",
    "import requests\n",
    "import re\n",
    "import pandas as pd"
   ]
  },
  {
   "cell_type": "code",
   "execution_count": 2,
   "id": "14edefe7",
   "metadata": {},
   "outputs": [],
   "source": [
    "content = requests.get('https://www.wssu.edu/admissions/programs/index.html')\n",
    "soup = BeautifulSoup(content.text)"
   ]
  },
  {
   "cell_type": "code",
   "execution_count": 8,
   "id": "4b40a4a6",
   "metadata": {},
   "outputs": [],
   "source": [
    "link_container = list()\n",
    "template = 'https://www.wssu.edu/admissions/programs/'\n",
    "for a in soup.find('aside').find_all('a')[3:10]:\n",
    "    link_container.append(template + a['href'])"
   ]
  },
  {
   "cell_type": "code",
   "execution_count": 10,
   "id": "1f66692f",
   "metadata": {},
   "outputs": [],
   "source": [
    "link_container = [BeautifulSoup(requests.get(url).text) for url in link_container]"
   ]
  },
  {
   "cell_type": "code",
   "execution_count": 34,
   "id": "6a75df71",
   "metadata": {},
   "outputs": [],
   "source": [
    "major_lnk = dict()\n",
    "template = 'https://www.wssu.edu/admissions/programs/'\n",
    "for link in link_container:\n",
    "    for a in link.find('article').find_all('a'):\n",
    "        if re.search(r'\\(Major\\)|\\(Minor\\)|\\(Major, Minor\\)',a.text):\n",
    "            major = re.search(r'(.*)\\s\\(',a.text).group(1)\n",
    "            if re.search(r'http:',a['href']):\n",
    "                major_lnk[major] = a['href']\n",
    "            else:\n",
    "                major_lnk[major] = template + a['href']"
   ]
  },
  {
   "cell_type": "code",
   "execution_count": 36,
   "id": "e7b4575a",
   "metadata": {},
   "outputs": [],
   "source": [
    "for major in major_lnk:\n",
    "    content = requests.get(major_lnk[major])\n",
    "    major_lnk[major] = BeautifulSoup(content.text)"
   ]
  },
  {
   "cell_type": "code",
   "execution_count": 38,
   "id": "32690aa6",
   "metadata": {},
   "outputs": [],
   "source": [
    "scrape = dict.fromkeys(major_lnk.keys())"
   ]
  },
  {
   "cell_type": "code",
   "execution_count": 45,
   "id": "24aa29e6",
   "metadata": {},
   "outputs": [],
   "source": [
    "for major in major_lnk:\n",
    "    string = ''\n",
    "    for p in major_lnk[major].find_all('p'):\n",
    "        string += p.text\n",
    "    for li in major_lnk[major].find_all('li'):\n",
    "        string += li.text\n",
    "    \n",
    "    scrape[major] = [string]"
   ]
  },
  {
   "cell_type": "code",
   "execution_count": 47,
   "id": "36dff7f8",
   "metadata": {},
   "outputs": [],
   "source": [
    "df = pd.DataFrame.from_dict(data=scrape,orient='index')"
   ]
  },
  {
   "cell_type": "code",
   "execution_count": 49,
   "id": "9458dc20",
   "metadata": {},
   "outputs": [],
   "source": [
    "df.to_json('Winston-Salem State University.json')"
   ]
  },
  {
   "cell_type": "code",
   "execution_count": null,
   "id": "5af897c1",
   "metadata": {},
   "outputs": [],
   "source": []
  }
 ],
 "metadata": {
  "kernelspec": {
   "display_name": "Python 3 (ipykernel)",
   "language": "python",
   "name": "python3"
  },
  "language_info": {
   "codemirror_mode": {
    "name": "ipython",
    "version": 3
   },
   "file_extension": ".py",
   "mimetype": "text/x-python",
   "name": "python",
   "nbconvert_exporter": "python",
   "pygments_lexer": "ipython3",
   "version": "3.11.4"
  }
 },
 "nbformat": 4,
 "nbformat_minor": 5
}
