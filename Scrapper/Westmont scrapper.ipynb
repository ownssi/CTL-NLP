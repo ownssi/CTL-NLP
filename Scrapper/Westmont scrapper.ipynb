{
 "cells": [
  {
   "cell_type": "code",
   "execution_count": 1,
   "id": "541967e8",
   "metadata": {},
   "outputs": [],
   "source": [
    "from bs4 import BeautifulSoup\n",
    "import pandas as pd\n",
    "import requests\n",
    "import re"
   ]
  },
  {
   "cell_type": "code",
   "execution_count": 2,
   "id": "15e2e016",
   "metadata": {},
   "outputs": [],
   "source": [
    "url = requests.get('https://www.westmont.edu/academics/majors-programs')\n",
    "soup = BeautifulSoup(url.text)"
   ]
  },
  {
   "cell_type": "code",
   "execution_count": 3,
   "id": "333eee79",
   "metadata": {
    "scrolled": true
   },
   "outputs": [],
   "source": [
    "majors = soup.find('div',{'class':['field field--name-body','field--type-text-with-summary','field--label-hidden field--item']})\n",
    "major_dic = dict()\n",
    "\n",
    "templete = 'https://www.westmont.edu'\n",
    "for a in majors.find_all('a'):\n",
    "    \n",
    "    reg = re.search(r\"(.*)\\s\\(.*|.*\",a.text)\n",
    "    major_title = reg.group(1) if reg.group(1) else reg.group(0)\n",
    "    is_http = re.match(r'https:',a['href'])\n",
    "    if is_http:\n",
    "        major_dic[major_title] = a['href']\n",
    "    else:\n",
    "        major_dic[major_title] = templete + a['href']"
   ]
  },
  {
   "cell_type": "code",
   "execution_count": 4,
   "id": "46a07082",
   "metadata": {},
   "outputs": [],
   "source": [
    "soup_dic = {major: BeautifulSoup(requests.get(url).text) for major, url in major_dic.items()}    "
   ]
  },
  {
   "cell_type": "code",
   "execution_count": 76,
   "id": "680c7bfb",
   "metadata": {},
   "outputs": [],
   "source": [
    "scrap_dic = dict.fromkeys(soup_dic.keys(),[])\n",
    "for major, soup in soup_dic.items():\n",
    "    first = soup.select('div.field--type-text-with-summary')\n",
    "    \n",
    "    string = ''\n",
    "    for p in first[0].find_all('p'):\n",
    "        string += p.text\n",
    "    \n",
    "    scrap_dic[major] = list()\n",
    "    scrap_dic[major].append(string)"
   ]
  },
  {
   "cell_type": "code",
   "execution_count": 77,
   "id": "03ed248b",
   "metadata": {},
   "outputs": [],
   "source": [
    "df = pd.DataFrame.from_dict(data=scrap_dic,orient='index')"
   ]
  },
  {
   "cell_type": "code",
   "execution_count": 87,
   "id": "8f9c621e",
   "metadata": {
    "scrolled": true
   },
   "outputs": [],
   "source": [
    "df_filtered = df.drop(df.index[-13:],axis=0)"
   ]
  },
  {
   "cell_type": "code",
   "execution_count": 88,
   "id": "74526c28",
   "metadata": {},
   "outputs": [],
   "source": [
    "df_filtered.to_json('Westmont_major.json')"
   ]
  }
 ],
 "metadata": {
  "kernelspec": {
   "display_name": "Python 3 (ipykernel)",
   "language": "python",
   "name": "python3"
  },
  "language_info": {
   "codemirror_mode": {
    "name": "ipython",
    "version": 3
   },
   "file_extension": ".py",
   "mimetype": "text/x-python",
   "name": "python",
   "nbconvert_exporter": "python",
   "pygments_lexer": "ipython3",
   "version": "3.11.5"
  }
 },
 "nbformat": 4,
 "nbformat_minor": 5
}
