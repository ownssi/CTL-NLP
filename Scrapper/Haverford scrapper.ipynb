{
 "cells": [
  {
   "cell_type": "code",
   "execution_count": 22,
   "id": "e397a6dd",
   "metadata": {},
   "outputs": [],
   "source": [
    "from bs4 import BeautifulSoup, NavigableString, Tag\n",
    "import pandas as pd\n",
    "import requests"
   ]
  },
  {
   "cell_type": "code",
   "execution_count": 2,
   "id": "e95b45ba",
   "metadata": {},
   "outputs": [],
   "source": [
    "url = requests.get('https://www.haverford.edu/academics/majors-minors-and-concentrations')\n",
    "soup = BeautifulSoup(url.text)"
   ]
  },
  {
   "cell_type": "code",
   "execution_count": 13,
   "id": "2c5d58a8",
   "metadata": {},
   "outputs": [],
   "source": [
    "a_lst = soup.find('ul',{'class':'isotope-container'}).find_all('a')\n",
    "templete = 'https://www.haverford.edu'\n",
    "major_dic = dict()\n",
    "\n",
    "for a in a_lst:\n",
    "    if type(a.next_element) == NavigableString:\n",
    "        major_dic[str(a.next_element)] = templete + a['href']"
   ]
  },
  {
   "cell_type": "code",
   "execution_count": 17,
   "id": "8b5e913b",
   "metadata": {},
   "outputs": [],
   "source": [
    "soup_dic = {major:BeautifulSoup(requests.get(url).text) for major, url in major_dic.items()}"
   ]
  },
  {
   "cell_type": "code",
   "execution_count": 23,
   "id": "ab5a6920",
   "metadata": {},
   "outputs": [],
   "source": [
    "condition = {'class':\"mmc-block\",'id':\"curriculum-courses\",'data-magellan-destination':\"curriculum-courses\"}\n",
    "scrap_dic = dict.fromkeys(soup_dic.keys(),[])\n",
    "for major, soup in soup_dic.items():\n",
    "    \n",
    "    string = ''\n",
    "    for tag in list(soup.find('div',condition)):\n",
    "        if type(tag) == Tag:\n",
    "            string += tag.get_text()\n",
    "    \n",
    "    scrap_dic[major] = [string]"
   ]
  },
  {
   "cell_type": "code",
   "execution_count": 27,
   "id": "9861aaf6",
   "metadata": {},
   "outputs": [],
   "source": [
    "df = pd.DataFrame.from_dict(scrap_dic,orient='index')"
   ]
  },
  {
   "cell_type": "code",
   "execution_count": 29,
   "id": "c50db838",
   "metadata": {},
   "outputs": [],
   "source": [
    "df.to_json('Haverford_major.json')"
   ]
  },
  {
   "cell_type": "code",
   "execution_count": null,
   "id": "8778743f",
   "metadata": {},
   "outputs": [],
   "source": []
  }
 ],
 "metadata": {
  "kernelspec": {
   "display_name": "Python 3 (ipykernel)",
   "language": "python",
   "name": "python3"
  },
  "language_info": {
   "codemirror_mode": {
    "name": "ipython",
    "version": 3
   },
   "file_extension": ".py",
   "mimetype": "text/x-python",
   "name": "python",
   "nbconvert_exporter": "python",
   "pygments_lexer": "ipython3",
   "version": "3.11.5"
  }
 },
 "nbformat": 4,
 "nbformat_minor": 5
}
