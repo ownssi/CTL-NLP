{
 "cells": [
  {
   "cell_type": "code",
   "execution_count": 33,
   "id": "7c2ea0df",
   "metadata": {},
   "outputs": [],
   "source": [
    "from bs4 import BeautifulSoup, NavigableString, Tag\n",
    "import pandas as pd\n",
    "import requests\n",
    "import re"
   ]
  },
  {
   "cell_type": "code",
   "execution_count": 9,
   "id": "b781f682",
   "metadata": {},
   "outputs": [],
   "source": [
    "html_text = requests.get('https://www.bgsu.edu/firelands/academics.html').text\n",
    "soup = BeautifulSoup(html_text)"
   ]
  },
  {
   "cell_type": "code",
   "execution_count": 23,
   "id": "907372f7",
   "metadata": {},
   "outputs": [],
   "source": [
    "condition = {'class':\"card cmp-filterlist__results cmp-filterlist__results--show-8-cards cmp-filterlist__results--card-view\"}\n",
    "major_dic = dict()\n",
    "\n",
    "templete = 'https://www.bgsu.edu'\n",
    "for art in soup.find('div',condition).find_all('article'):\n",
    "    major_dic[art['aria-label']] = templete + art.find('a')['href']"
   ]
  },
  {
   "cell_type": "code",
   "execution_count": 26,
   "id": "343a00dc",
   "metadata": {},
   "outputs": [],
   "source": [
    "soup_dic = {major:BeautifulSoup(requests.get(url).text) for major,url in major_dic.items()}"
   ]
  },
  {
   "cell_type": "code",
   "execution_count": 114,
   "id": "5dcc2373",
   "metadata": {},
   "outputs": [],
   "source": [
    "scrap_dic = dict()\n",
    "for major, soup in soup_dic.items():\n",
    "    \n",
    "    string = ''\n",
    "    for tags in soup.select('div.text.parbase'):\n",
    "        for tag in list(tags):\n",
    "            if type(tag) == Tag:\n",
    "                string += tag.get_text()\n",
    "                scrap_dic[major] = [string]"
   ]
  },
  {
   "cell_type": "code",
   "execution_count": 116,
   "id": "94284262",
   "metadata": {},
   "outputs": [],
   "source": [
    "df = pd.DataFrame.from_dict(scrap_dic,orient='index')"
   ]
  },
  {
   "cell_type": "code",
   "execution_count": 118,
   "id": "cbd1aba5",
   "metadata": {},
   "outputs": [],
   "source": [
    "df.to_json('BGSU_firelands_major.json')"
   ]
  },
  {
   "cell_type": "code",
   "execution_count": null,
   "id": "60084d6b",
   "metadata": {},
   "outputs": [],
   "source": []
  }
 ],
 "metadata": {
  "kernelspec": {
   "display_name": "Python 3 (ipykernel)",
   "language": "python",
   "name": "python3"
  },
  "language_info": {
   "codemirror_mode": {
    "name": "ipython",
    "version": 3
   },
   "file_extension": ".py",
   "mimetype": "text/x-python",
   "name": "python",
   "nbconvert_exporter": "python",
   "pygments_lexer": "ipython3",
   "version": "3.11.5"
  }
 },
 "nbformat": 4,
 "nbformat_minor": 5
}
