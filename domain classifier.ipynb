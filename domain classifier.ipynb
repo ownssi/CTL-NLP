{
 "cells": [
  {
   "cell_type": "code",
   "execution_count": 1,
   "id": "3c3f67d2",
   "metadata": {},
   "outputs": [],
   "source": [
    "import pandas as pd"
   ]
  },
  {
   "cell_type": "code",
   "execution_count": 4,
   "id": "085b2b8d",
   "metadata": {},
   "outputs": [],
   "source": [
    "df = pd.read_json('corpus.json')"
   ]
  },
  {
   "cell_type": "code",
   "execution_count": 5,
   "id": "bd8ea30e",
   "metadata": {},
   "outputs": [
    {
     "data": {
      "text/html": [
       "<div>\n",
       "<style scoped>\n",
       "    .dataframe tbody tr th:only-of-type {\n",
       "        vertical-align: middle;\n",
       "    }\n",
       "\n",
       "    .dataframe tbody tr th {\n",
       "        vertical-align: top;\n",
       "    }\n",
       "\n",
       "    .dataframe thead th {\n",
       "        text-align: right;\n",
       "    }\n",
       "</style>\n",
       "<table border=\"1\" class=\"dataframe\">\n",
       "  <thead>\n",
       "    <tr style=\"text-align: right;\">\n",
       "      <th></th>\n",
       "      <th>0</th>\n",
       "    </tr>\n",
       "  </thead>\n",
       "  <tbody>\n",
       "    <tr>\n",
       "      <th>african-american-studies</th>\n",
       "      <td>\\n\\n\\nStudent Learning Goals\\nMission\\n\\n\\nThe...</td>\n",
       "    </tr>\n",
       "    <tr>\n",
       "      <th>american-studies</th>\n",
       "      <td>\\n\\n\\nStudent Learning Goals\\nMission\\n\\n\\nThe...</td>\n",
       "    </tr>\n",
       "    <tr>\n",
       "      <th>ancient-greek-roman-studies</th>\n",
       "      <td>\\n\\n\\nStudent Learning Goals\\nMission\\n\\n\\nThe...</td>\n",
       "    </tr>\n",
       "    <tr>\n",
       "      <th>anthropology</th>\n",
       "      <td>\\n\\n\\nStudent Learning Goals\\nLearning Goals f...</td>\n",
       "    </tr>\n",
       "    <tr>\n",
       "      <th>applied-mathematics</th>\n",
       "      <td>\\n\\n\\nStudent Learning Goals\\nLearning Goals f...</td>\n",
       "    </tr>\n",
       "    <tr>\n",
       "      <th>...</th>\n",
       "      <td>...</td>\n",
       "    </tr>\n",
       "    <tr>\n",
       "      <th>spanish-portuguese</th>\n",
       "      <td>\\n\\n\\nStudent Learning Goals\\nLearning Goals f...</td>\n",
       "    </tr>\n",
       "    <tr>\n",
       "      <th>statistics</th>\n",
       "      <td>\\n\\n\\nStudent Learning Goals\\nMission\\n\\n\\nSta...</td>\n",
       "    </tr>\n",
       "    <tr>\n",
       "      <th>sustainable-environmental-design</th>\n",
       "      <td>\\n\\n\\nStudent Learning Goals\\nLearning Goals o...</td>\n",
       "    </tr>\n",
       "    <tr>\n",
       "      <th>theater-performance-studies</th>\n",
       "      <td>\\n\\n\\nStudent Learning Goals\\nMission\\n\\n\\nThe...</td>\n",
       "    </tr>\n",
       "    <tr>\n",
       "      <th>urban-studies</th>\n",
       "      <td>\\n\\n\\nStudent Learning Goals\\nLearning Goals o...</td>\n",
       "    </tr>\n",
       "  </tbody>\n",
       "</table>\n",
       "<p>93 rows × 1 columns</p>\n",
       "</div>"
      ],
      "text/plain": [
       "                                                                                  0\n",
       "african-american-studies          \\n\\n\\nStudent Learning Goals\\nMission\\n\\n\\nThe...\n",
       "american-studies                  \\n\\n\\nStudent Learning Goals\\nMission\\n\\n\\nThe...\n",
       "ancient-greek-roman-studies       \\n\\n\\nStudent Learning Goals\\nMission\\n\\n\\nThe...\n",
       "anthropology                      \\n\\n\\nStudent Learning Goals\\nLearning Goals f...\n",
       "applied-mathematics               \\n\\n\\nStudent Learning Goals\\nLearning Goals f...\n",
       "...                                                                             ...\n",
       "spanish-portuguese                \\n\\n\\nStudent Learning Goals\\nLearning Goals f...\n",
       "statistics                        \\n\\n\\nStudent Learning Goals\\nMission\\n\\n\\nSta...\n",
       "sustainable-environmental-design  \\n\\n\\nStudent Learning Goals\\nLearning Goals o...\n",
       "theater-performance-studies       \\n\\n\\nStudent Learning Goals\\nMission\\n\\n\\nThe...\n",
       "urban-studies                     \\n\\n\\nStudent Learning Goals\\nLearning Goals o...\n",
       "\n",
       "[93 rows x 1 columns]"
      ]
     },
     "execution_count": 5,
     "metadata": {},
     "output_type": "execute_result"
    }
   ],
   "source": [
    "df"
   ]
  },
  {
   "cell_type": "code",
   "execution_count": null,
   "id": "e7d0c115",
   "metadata": {},
   "outputs": [],
   "source": []
  }
 ],
 "metadata": {
  "kernelspec": {
   "display_name": "Python 3 (ipykernel)",
   "language": "python",
   "name": "python3"
  },
  "language_info": {
   "codemirror_mode": {
    "name": "ipython",
    "version": 3
   },
   "file_extension": ".py",
   "mimetype": "text/x-python",
   "name": "python",
   "nbconvert_exporter": "python",
   "pygments_lexer": "ipython3",
   "version": "3.11.5"
  }
 },
 "nbformat": 4,
 "nbformat_minor": 5
}
