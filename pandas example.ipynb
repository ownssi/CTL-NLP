{
 "cells": [
  {
   "cell_type": "code",
   "execution_count": 1,
   "id": "9397f7da",
   "metadata": {},
   "outputs": [],
   "source": [
    "import pandas as pd"
   ]
  },
  {
   "cell_type": "code",
   "execution_count": 2,
   "id": "1db05320",
   "metadata": {},
   "outputs": [],
   "source": [
    "dic = {'major':['Aerospace Engineering'],'content':['''About the Program\n",
    "Leonardo da Vinci wrote, “Once you have tasted flight, you will forever walk the earth with your eyes turned skyward. For there you have been, and there you will always long to return.” Perhaps, like da Vinci, you’ve always been obsessed with airborne machines: Gliders and lighter-than-air craft. Fixed-wing airplanes and jets. Autogyros and helicopters. Or even rockets, satellites, and spacecraft. Aeronautical engineers generally design aircraft to fly within the Earth’s atmosphere, while astronautical engineers design the technology for spacecraft to fly beyond the atmosphere. Either way, the sky’s the limit.\n",
    "Major Program\n",
    "At Berkeley Engineering, we offer a modern aerospace engineering major that combines comprehensive topical coverage, technical rigor and practical relevance. This major has been designed from the ground up for students who aspire to become leaders in an emerging era of aerospace technologies, including sustainable aviation, autonomous flight and space exploration. With a UC Berkeley aerospace engineering degree, you can find employment in industry — such as multinational corporations that design and manufacture aerospace systems at scale, or mid-size and small private companies that develop targeted technologies — or in federal government agencies such as NASA, the FAA or federal defense organizations.\n",
    "The aerospace engineering degree program began instruction with an inaugural freshman class in Fall 2022. \n",
    "Minor Program\n",
    "To declare your intention to pursue the Aerospace Minor, please use your Berkeley email address/calnet ID and fill out the following application to declare form.\n",
    "Non-Mechanical Engineering major students can declare their intention to complete the minor after completing prerequisite courses MEC ENG C85 Introduction to Solid Mechanics, MEC ENG 106 Fluid Mechanics, and MEC ENG 132 Dynamic Systems and Feedback. Mechanical Engineering majors are allowed to overlap prerequisite courses. Students must have a minimum overall grade-point average of 3.0, as well as a minimum grade-point average of 3.0 in the prerequisite courses, in order to be admitted to the minor program.''']}"
   ]
  },
  {
   "cell_type": "code",
   "execution_count": 3,
   "id": "126227b6",
   "metadata": {},
   "outputs": [],
   "source": [
    "df = pd.DataFrame(dic)"
   ]
  },
  {
   "cell_type": "code",
   "execution_count": 6,
   "id": "fdb19c84",
   "metadata": {},
   "outputs": [],
   "source": [
    "df.to_csv('test.json')"
   ]
  },
  {
   "cell_type": "code",
   "execution_count": null,
   "id": "3b2f3eca",
   "metadata": {},
   "outputs": [],
   "source": []
  }
 ],
 "metadata": {
  "kernelspec": {
   "display_name": "Python 3 (ipykernel)",
   "language": "python",
   "name": "python3"
  },
  "language_info": {
   "codemirror_mode": {
    "name": "ipython",
    "version": 3
   },
   "file_extension": ".py",
   "mimetype": "text/x-python",
   "name": "python",
   "nbconvert_exporter": "python",
   "pygments_lexer": "ipython3",
   "version": "3.11.4"
  }
 },
 "nbformat": 4,
 "nbformat_minor": 5
}
