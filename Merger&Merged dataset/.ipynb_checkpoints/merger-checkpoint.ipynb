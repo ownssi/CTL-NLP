{
 "cells": [
  {
   "cell_type": "code",
   "execution_count": 19,
   "id": "1a930039",
   "metadata": {},
   "outputs": [],
   "source": [
    "import pandas as pd\n",
    "import os"
   ]
  },
  {
   "cell_type": "code",
   "execution_count": 20,
   "id": "b7aca19e",
   "metadata": {},
   "outputs": [],
   "source": [
    "df_dic = dict()\n",
    "for file in os.listdir():\n",
    "    if file.endswith('.json'):\n",
    "        df_dic[file.replace('.json','')] = pd.read_json(file)"
   ]
  },
  {
   "cell_type": "code",
   "execution_count": 21,
   "id": "0b39f1de",
   "metadata": {},
   "outputs": [
    {
     "data": {
      "text/plain": [
       "dict_keys(['uc_berkeley', 'haverford_college', 'winston-salem_state_university', 'nyack_college', 'coloradomesa', 'westmont_college', 'bryant_strattoncollege-racine', 'new_mexico_institute_of_mining_and_technology', 'cornerstone_university', 'university_of_houston', 'stevenson_university', 'southern_wesleyan', 'BGSU_firelands', 'lagrange_college'])"
      ]
     },
     "execution_count": 21,
     "metadata": {},
     "output_type": "execute_result"
    }
   ],
   "source": [
    "df_dic.keys()"
   ]
  },
  {
   "cell_type": "code",
   "execution_count": 22,
   "id": "0433cf47",
   "metadata": {},
   "outputs": [],
   "source": [
    "for college in df_dic:\n",
    "    df_dic[college]['name_college'] = college\n",
    "    df_dic[college].reset_index(inplace=True)\n",
    "    df_dic[college].set_index('name_college',inplace=True)\n",
    "    df_dic[college].rename({'index':'major',0:'text'},axis=1,inplace=True)"
   ]
  },
  {
   "cell_type": "code",
   "execution_count": 26,
   "id": "10e42d3e",
   "metadata": {},
   "outputs": [],
   "source": [
    "df = pd.DataFrame"
   ]
  },
  {
   "cell_type": "code",
   "execution_count": 33,
   "id": "3b90e847",
   "metadata": {},
   "outputs": [],
   "source": [
    "df_lst = list(df_dic.values())\n",
    "merge_df = df_lst[0]\n",
    "for df in df_lst[1:]:\n",
    "    merge_df = pd.concat([merge_df, df], axis=0)"
   ]
  },
  {
   "cell_type": "markdown",
   "id": "bfd3dac5",
   "metadata": {},
   "source": [
    "## If you need a different type of json, then please change argument of orient of the code below"
   ]
  },
  {
   "cell_type": "code",
   "execution_count": 39,
   "id": "424568bc",
   "metadata": {},
   "outputs": [],
   "source": [
    "merge_df.to_csv('merged.csv')\n",
    "merge_df.to_json('merged.json',orient='records') # change orient if you need diferrent type of json"
   ]
  },
  {
   "cell_type": "code",
   "execution_count": 36,
   "id": "205f3734",
   "metadata": {},
   "outputs": [
    {
     "data": {
      "text/html": [
       "<div>\n",
       "<style scoped>\n",
       "    .dataframe tbody tr th:only-of-type {\n",
       "        vertical-align: middle;\n",
       "    }\n",
       "\n",
       "    .dataframe tbody tr th {\n",
       "        vertical-align: top;\n",
       "    }\n",
       "\n",
       "    .dataframe thead th {\n",
       "        text-align: right;\n",
       "    }\n",
       "</style>\n",
       "<table border=\"1\" class=\"dataframe\">\n",
       "  <thead>\n",
       "    <tr style=\"text-align: right;\">\n",
       "      <th></th>\n",
       "      <th>major</th>\n",
       "      <th>text</th>\n",
       "    </tr>\n",
       "    <tr>\n",
       "      <th>name_college</th>\n",
       "      <th></th>\n",
       "      <th></th>\n",
       "    </tr>\n",
       "  </thead>\n",
       "  <tbody>\n",
       "    <tr>\n",
       "      <th>uc_berkeley</th>\n",
       "      <td>african-american-studies</td>\n",
       "      <td>\\n\\n\\nStudent Learning Goals\\nMission\\n\\n\\nThe...</td>\n",
       "    </tr>\n",
       "    <tr>\n",
       "      <th>uc_berkeley</th>\n",
       "      <td>american-studies</td>\n",
       "      <td>\\n\\n\\nStudent Learning Goals\\nMission\\n\\n\\nThe...</td>\n",
       "    </tr>\n",
       "    <tr>\n",
       "      <th>uc_berkeley</th>\n",
       "      <td>ancient-greek-roman-studies</td>\n",
       "      <td>\\n\\n\\nStudent Learning Goals\\nMission\\n\\n\\nThe...</td>\n",
       "    </tr>\n",
       "    <tr>\n",
       "      <th>uc_berkeley</th>\n",
       "      <td>anthropology</td>\n",
       "      <td>\\n\\n\\nStudent Learning Goals\\nLearning Goals f...</td>\n",
       "    </tr>\n",
       "    <tr>\n",
       "      <th>uc_berkeley</th>\n",
       "      <td>applied-mathematics</td>\n",
       "      <td>\\n\\n\\nStudent Learning Goals\\nLearning Goals f...</td>\n",
       "    </tr>\n",
       "    <tr>\n",
       "      <th>...</th>\n",
       "      <td>...</td>\n",
       "      <td>...</td>\n",
       "    </tr>\n",
       "    <tr>\n",
       "      <th>BGSU_firelands</th>\n",
       "      <td>Social Work</td>\n",
       "      <td>This program graduates students competent for ...</td>\n",
       "    </tr>\n",
       "    <tr>\n",
       "      <th>BGSU_firelands</th>\n",
       "      <td>Technical Studies in Radiologic Science</td>\n",
       "      <td>Radiologic technologists provide diagnostic an...</td>\n",
       "    </tr>\n",
       "    <tr>\n",
       "      <th>BGSU_firelands</th>\n",
       "      <td>Technical Study</td>\n",
       "      <td>The associate of technical study degree progra...</td>\n",
       "    </tr>\n",
       "    <tr>\n",
       "      <th>BGSU_firelands</th>\n",
       "      <td>Visual Media Technology</td>\n",
       "      <td>The Visual Media Technology program is part of...</td>\n",
       "    </tr>\n",
       "    <tr>\n",
       "      <th>lagrange_college</th>\n",
       "      <td>Mathematics</td>\n",
       "      <td>Students in Core classes will demonstrate the ...</td>\n",
       "    </tr>\n",
       "  </tbody>\n",
       "</table>\n",
       "<p>467 rows × 2 columns</p>\n",
       "</div>"
      ],
      "text/plain": [
       "                                                    major  \\\n",
       "name_college                                                \n",
       "uc_berkeley                      african-american-studies   \n",
       "uc_berkeley                              american-studies   \n",
       "uc_berkeley                   ancient-greek-roman-studies   \n",
       "uc_berkeley                                  anthropology   \n",
       "uc_berkeley                           applied-mathematics   \n",
       "...                                                   ...   \n",
       "BGSU_firelands                                Social Work   \n",
       "BGSU_firelands    Technical Studies in Radiologic Science   \n",
       "BGSU_firelands                            Technical Study   \n",
       "BGSU_firelands                    Visual Media Technology   \n",
       "lagrange_college                              Mathematics   \n",
       "\n",
       "                                                               text  \n",
       "name_college                                                         \n",
       "uc_berkeley       \\n\\n\\nStudent Learning Goals\\nMission\\n\\n\\nThe...  \n",
       "uc_berkeley       \\n\\n\\nStudent Learning Goals\\nMission\\n\\n\\nThe...  \n",
       "uc_berkeley       \\n\\n\\nStudent Learning Goals\\nMission\\n\\n\\nThe...  \n",
       "uc_berkeley       \\n\\n\\nStudent Learning Goals\\nLearning Goals f...  \n",
       "uc_berkeley       \\n\\n\\nStudent Learning Goals\\nLearning Goals f...  \n",
       "...                                                             ...  \n",
       "BGSU_firelands    This program graduates students competent for ...  \n",
       "BGSU_firelands    Radiologic technologists provide diagnostic an...  \n",
       "BGSU_firelands    The associate of technical study degree progra...  \n",
       "BGSU_firelands    The Visual Media Technology program is part of...  \n",
       "lagrange_college  Students in Core classes will demonstrate the ...  \n",
       "\n",
       "[467 rows x 2 columns]"
      ]
     },
     "execution_count": 36,
     "metadata": {},
     "output_type": "execute_result"
    }
   ],
   "source": [
    "merge_df"
   ]
  },
  {
   "cell_type": "code",
   "execution_count": null,
   "id": "f7038b59",
   "metadata": {},
   "outputs": [],
   "source": []
  }
 ],
 "metadata": {
  "kernelspec": {
   "display_name": "Python 3 (ipykernel)",
   "language": "python",
   "name": "python3"
  },
  "language_info": {
   "codemirror_mode": {
    "name": "ipython",
    "version": 3
   },
   "file_extension": ".py",
   "mimetype": "text/x-python",
   "name": "python",
   "nbconvert_exporter": "python",
   "pygments_lexer": "ipython3",
   "version": "3.11.5"
  }
 },
 "nbformat": 4,
 "nbformat_minor": 5
}
