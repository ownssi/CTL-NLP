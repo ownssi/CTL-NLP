{
  "nbformat": 4,
  "nbformat_minor": 0,
  "metadata": {
    "colab": {
      "provenance": []
    },
    "kernelspec": {
      "name": "python3",
      "display_name": "Python 3"
    },
    "language_info": {
      "name": "python"
    }
  },
  "cells": [
    {
      "cell_type": "code",
      "execution_count": 19,
      "metadata": {
        "id": "FNrkVoYdGPws"
      },
      "outputs": [],
      "source": [
        "import pandas as pd\n",
        "import numpy as np\n",
        "from bs4 import BeautifulSoup\n",
        "import requests"
      ]
    },
    {
      "cell_type": "markdown",
      "source": [
        "## Fetch data"
      ],
      "metadata": {
        "id": "xTlN_hZZV_d6"
      }
    },
    {
      "cell_type": "code",
      "source": [
        "re = requests.get('https://guide.berkeley.edu/undergraduate/degree-programs/')\n",
        "soup = BeautifulSoup(re.text)\n",
        "lst = soup.find('ul',{'class':'program-thumb-list'}).find_all('li')\n",
        "\n",
        "url = 'https://guide.berkeley.edu/undergraduate/degree-programs/'\n",
        "link_dic = dict()\n",
        "for li in lst:\n",
        "  major_name = li.find('a')['href']\n",
        "  link_dic[major_name] = url + major_name\n",
        "\n",
        "soup_dic = dict()\n",
        "for key in link_dic:\n",
        "  re = requests.get(link_dic[key] + '/')\n",
        "  soup_dic[key] = BeautifulSoup(re.text)"
      ],
      "metadata": {
        "id": "Q4mkWfLdGYh8"
      },
      "execution_count": 20,
      "outputs": []
    },
    {
      "cell_type": "markdown",
      "source": [
        "## Structure EDA"
      ],
      "metadata": {
        "id": "3NjmiLV1WCV_"
      }
    },
    {
      "cell_type": "code",
      "source": [
        "max = 0\n",
        "major_dic = dict()\n",
        "for key in soup_dic:\n",
        "  li_table = soup_dic[key].find('ul',{'class':'clearfix'})\n",
        "  if li_table:\n",
        "\n",
        "    li_table = li_table.find_all('li')\n",
        "    if len(li_table) > max:\n",
        "\n",
        "      max = len(li_table)\n",
        "\n",
        "      for each_lst in major_dic.values(): #appending na to the other lists less than max\n",
        "        while len(each_lst) < max:\n",
        "          each_lst.append(np.nan)\n",
        "\n",
        "      major_dic[key] = list()\n",
        "      for li in li_table:\n",
        "        major_dic[key].append(li['id'])\n",
        "\n",
        "    else:\n",
        "      major_dic[key] = list()\n",
        "      for li in li_table:\n",
        "        major_dic[key].append(li['id'])\n",
        "\n",
        "      while len(major_dic[key]) < max:\n",
        "          major_dic[key].append(np.nan)\n",
        "\n",
        "  else:\n",
        "    continue\n"
      ],
      "metadata": {
        "id": "tKLHPmXHHegT"
      },
      "execution_count": 47,
      "outputs": []
    },
    {
      "cell_type": "code",
      "source": [
        "df = pd.DataFrame.from_dict(major_dic, orient='index')"
      ],
      "metadata": {
        "id": "0aUt3CnKR7l1"
      },
      "execution_count": 48,
      "outputs": []
    },
    {
      "cell_type": "code",
      "source": [
        "condition = (df[3]=='studentlearninggoalstexttab') | (df[4]=='studentlearninggoalstexttab') | (df[5]=='studentlearninggoalstexttab') | (df[6]=='studentlearninggoalstexttab')\n",
        "filtered = df[condition]"
      ],
      "metadata": {
        "id": "Vfby2rY3SV_q"
      },
      "execution_count": 66,
      "outputs": []
    },
    {
      "cell_type": "markdown",
      "source": [
        "## Scrapping only majors with learning outcome"
      ],
      "metadata": {
        "id": "dgRm9B12WHT-"
      }
    },
    {
      "cell_type": "code",
      "source": [
        "learning_major = dict()\n",
        "for key in soup_dic:\n",
        "  if key in filtered.index.to_list():\n",
        "    string = ''\n",
        "    tags = soup_dic[key].find('div',{'aria-labelledby':'studentlearninggoalstexttab'})\n",
        "    for tag in list(tags):\n",
        "      string += tag.text\n",
        "      string += '\\n'\n",
        "      learning_major[key] = [string]"
      ],
      "metadata": {
        "id": "I6eGFmlRWHyY"
      },
      "execution_count": 84,
      "outputs": []
    },
    {
      "cell_type": "code",
      "source": [
        "new_df = pd.DataFrame.from_dict(learning_major, orient='index')"
      ],
      "metadata": {
        "id": "zFtfOvYtZaXv"
      },
      "execution_count": 87,
      "outputs": []
    },
    {
      "cell_type": "code",
      "source": [
        "new_df.to_json('corpus,json')"
      ],
      "metadata": {
        "id": "Uv6mmkMFaXCP"
      },
      "execution_count": 93,
      "outputs": []
    }
  ]
}