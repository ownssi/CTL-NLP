{
 "cells": [
  {
   "cell_type": "code",
   "execution_count": 14,
   "id": "61643f54",
   "metadata": {},
   "outputs": [],
   "source": [
    "from bs4 import BeautifulSoup\n",
    "import requests\n",
    "import re\n",
    "import pandas as pd"
   ]
  },
  {
   "cell_type": "code",
   "execution_count": 4,
   "id": "e004f48b",
   "metadata": {},
   "outputs": [],
   "source": [
    "r = requests.get('http://publications.uh.edu/content.php?catoid=49&navoid=18376')\n",
    "soup = BeautifulSoup(r.text)"
   ]
  },
  {
   "cell_type": "code",
   "execution_count": 16,
   "id": "28c8fc9c",
   "metadata": {},
   "outputs": [],
   "source": [
    "major_lnk = dict()\n",
    "template = 'http://publications.uh.edu/'\n",
    "for a in soup.find_all('ul',{'class':'program-list'})[2].find_all('a'):\n",
    "    major = re.search(r'(.*),\\s',a.text).group(1)\n",
    "    url = template + a['href'].replace('amp;','')\n",
    "    r = requests.get(url)\n",
    "    major_lnk[major] = BeautifulSoup(r.text)"
   ]
  },
  {
   "cell_type": "code",
   "execution_count": 19,
   "id": "b433cc24",
   "metadata": {},
   "outputs": [],
   "source": [
    "scrape = dict.fromkeys(major_lnk.keys())"
   ]
  },
  {
   "cell_type": "code",
   "execution_count": 21,
   "id": "7a38dd83",
   "metadata": {},
   "outputs": [],
   "source": [
    "for major in major_lnk:\n",
    "    \n",
    "    string = ''\n",
    "    for p in major_lnk[major].find_all('p'):\n",
    "        string += p.text\n",
    "    scrape[major] = [string]"
   ]
  },
  {
   "cell_type": "code",
   "execution_count": 23,
   "id": "06f396b3",
   "metadata": {},
   "outputs": [],
   "source": [
    "df = pd.DataFrame.from_dict(data=scrape,orient='index')"
   ]
  },
  {
   "cell_type": "code",
   "execution_count": 38,
   "id": "f3533341",
   "metadata": {},
   "outputs": [
    {
     "name": "stderr",
     "output_type": "stream",
     "text": [
      "/var/folders/t8/y3vbrrmx1qggz117l26zrf3c0000gn/T/ipykernel_56708/4154204822.py:2: FutureWarning: The default value of regex will change from True to False in a future version.\n",
      "  df[0] = df[0].str.replace(delete,'')\n"
     ]
    }
   ],
   "source": [
    "delete = '''Javascript is currently not supported, or is disabled by this browser. Please enable Javascript for full functionality.\\n                        ©2016 University of Houston. All rights reserved.\\n                     Return to: Major and Minor Fields of Study Listed Alphabetically'''\n",
    "df[0] = df[0].str.replace(delete,'')"
   ]
  },
  {
   "cell_type": "code",
   "execution_count": 40,
   "id": "35dcbf2b",
   "metadata": {},
   "outputs": [],
   "source": [
    "df.to_json('University of Houston.json')"
   ]
  },
  {
   "cell_type": "code",
   "execution_count": null,
   "id": "519b0b20",
   "metadata": {},
   "outputs": [],
   "source": []
  }
 ],
 "metadata": {
  "kernelspec": {
   "display_name": "Python 3 (ipykernel)",
   "language": "python",
   "name": "python3"
  },
  "language_info": {
   "codemirror_mode": {
    "name": "ipython",
    "version": 3
   },
   "file_extension": ".py",
   "mimetype": "text/x-python",
   "name": "python",
   "nbconvert_exporter": "python",
   "pygments_lexer": "ipython3",
   "version": "3.11.4"
  }
 },
 "nbformat": 4,
 "nbformat_minor": 5
}
